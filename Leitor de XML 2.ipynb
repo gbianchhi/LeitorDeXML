{
 "cells": [
  {
   "cell_type": "code",
   "execution_count": 8,
   "id": "d0e743a8",
   "metadata": {},
   "outputs": [
    {
     "name": "stdout",
     "output_type": "stream",
     "text": [
      "Dados salvos no arquivo 'itens_notas_fiscais.xlsx'\n"
     ]
    }
   ],
   "source": [
    "import os\n",
    "import xml.etree.ElementTree as ET\n",
    "from openpyxl import Workbook\n",
    "\n",
    "# Caminho da pasta onde os XMLs estão armazenados\n",
    "pasta_xml = 'NFs'\n",
    "\n",
    "# Namespace da NF-e \n",
    "ns = {'nfe': 'http://www.portalfiscal.inf.br/nfe'}\n",
    "\n",
    "# Cria um novo arquivo Excel\n",
    "wb = Workbook()\n",
    "ws = wb.active\n",
    "ws.title = \"Itens Notas Fiscais\"\n",
    "\n",
    "# Adiciona o cabeçalho na planilha\n",
    "ws.append([\"utilizacao\", \"emitente\", \"destinatario\", \"cnpj\", \"PO\", \"prod\", \"quantidade\", \"preço\", \"local de entrega\", \"NF\",])\n",
    "\n",
    "# Itera sobre todos os arquivos na pasta\n",
    "for arquivo in os.listdir(pasta_xml):\n",
    "    if arquivo.endswith('.xml'):\n",
    "        caminho_xml = os.path.join(pasta_xml, arquivo)\n",
    "\n",
    "        # Carrega o arquivo XML e transformar em uma arvore de elementos manipulaveis\n",
    "        tree = ET.parse(caminho_xml)\n",
    "        root = tree.getroot()\n",
    "\n",
    "\n",
    "        # Acessa os itens da nota fiscal\n",
    "        destinatario = root.find('.//nfe:dest/nfe:xNome', ns).text\n",
    "\n",
    "        emitente = root.find('.//nfe:emit/nfe:xNome', ns).text\n",
    "\n",
    "        cnpj = root.find('.//nfe:dest/nfe:CNPJ', ns).text\n",
    "\n",
    "        texto_informacoes_XML = root.find('.//nfe:infAdic/nfe:infCpl', ns).text\n",
    "        indice_PO_incio = texto_informacoes_XML.find('Ped. Cliente:') + 13\n",
    "        indice_PO_final = indice_PO_incio + 5\n",
    "        pedido_de_compra = texto_informacoes_XML[indice_PO_incio:indice_PO_final]\n",
    "        \n",
    "        indice_local_inicio = texto_informacoes_XML.find('-Nome do local de entrea-')\n",
    "        indice_local_final = indice_local_inicio + 7\n",
    "        local_de_entrega = texto_informacoes_XML[indice_local_inicio:indice_local_final]\n",
    "        \n",
    "        nf = root.find('.//nfe:ide/nfe:nNF', ns).text\n",
    "\n",
    "        dados_gerais = root.find('.//nfe:ide', ns)\n",
    "        utilizacao = dados_gerais.find('.//nfe:natOp', ns).text\n",
    "\n",
    "        itens = root.findall('.//nfe:det', ns)\n",
    "\n",
    "        # Verifica se há itens no XML\n",
    "        if not itens:\n",
    "            print(f'Nenhum item encontrado no arquivo: {arquivo}')\n",
    "            continue\n",
    "        \n",
    "        # Itera sobre os itens e salva as informações na planilha\n",
    "        for item in itens:\n",
    "            nome_produto = item.find('.//nfe:xProd', ns).text\n",
    "            quantidade = item.find('./nfe:prod/nfe:qCom', ns).text\n",
    "            preco = item.find('.//nfe:prod/nfe:vUnCom', ns).text\n",
    "\n",
    "            # Adiciona a linha na planilha\n",
    "            ws.append([utilizacao, emitente, destinatario, cnpj, pedido_de_compra, nome_produto, quantidade, preco, local_de_entrega, nf])\n",
    "\n",
    "# Salva o arquivo Excel\n",
    "wb.save(\"itens_notas_fiscais.xlsx\")\n",
    "print(\"Dados salvos no arquivo 'itens_notas_fiscais.xlsx'\")\n"
   ]
  }
 ],
 "metadata": {
  "kernelspec": {
   "display_name": "Python 3 (ipykernel)",
   "language": "python",
   "name": "python3"
  },
  "language_info": {
   "codemirror_mode": {
    "name": "ipython",
    "version": 3
   },
   "file_extension": ".py",
   "mimetype": "text/x-python",
   "name": "python",
   "nbconvert_exporter": "python",
   "pygments_lexer": "ipython3",
   "version": "3.12.3"
  }
 },
 "nbformat": 4,
 "nbformat_minor": 5
}
